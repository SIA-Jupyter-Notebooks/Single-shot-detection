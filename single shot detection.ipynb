{
 "cells": [
  {
   "cell_type": "markdown",
   "metadata": {},
   "source": [
    "# How to Implement Single Shot Detection Algorithm using Caffe NET Model ?"
   ]
  },
  {
   "cell_type": "markdown",
   "metadata": {},
   "source": [
    "### Single Shot Detection is about Detecting Multiple Object in One Go.\n",
    "### Here we are Using Pre-trained Model ie. Caffe  Model \n",
    "#### TO Demonstrate the Output."
   ]
  },
  {
   "cell_type": "raw",
   "metadata": {},
   "source": [
    "#Install Following Dependencies \n",
    "!pip install opencv-contrib-python\n",
    "!pip install numpy"
   ]
  },
  {
   "cell_type": "code",
   "execution_count": null,
   "metadata": {},
   "outputs": [],
   "source": [
    "import cv2\n",
    "import numpy as np"
   ]
  },
  {
   "cell_type": "markdown",
   "metadata": {},
   "source": [
    "### Load the Model"
   ]
  },
  {
   "cell_type": "code",
   "execution_count": null,
   "metadata": {},
   "outputs": [],
   "source": [
    "model = cv2.dnn.readNetFromCaffe('../MobileNetSSD_deploy.prototxt',\n",
    "                                 '../MobileNetSSD_deploy.caffemodel')"
   ]
  },
  {
   "cell_type": "code",
   "execution_count": null,
   "metadata": {},
   "outputs": [],
   "source": [
    "# Confidence Threshold value = conf_thr ---> minmium value which is permitable.\n",
    "CONF_THR = 0.3\n",
    "LABELS = {1: 'aeroplane', 2: 'bicycle', 3: 'bird', 4: 'boat',\n",
    "          5: 'bottle', 6: 'bus', 7: 'car', 8: 'cat', 9: 'chair',\n",
    "          10: 'cow', 11: 'diningtable', 12: 'dog', 13: 'horse',\n",
    "          14: 'motorbike', 15: 'person', 16: 'pottedplant',\n",
    "          17: 'sheep', 18: 'sofa', 19: 'train', 20: 'tvmonitor'}\n",
    "# load the video on which you want the Output.\n",
    "video = cv2.VideoCapture('../Pigeon.mp4')"
   ]
  },
  {
   "cell_type": "markdown",
   "metadata": {},
   "source": [
    "#### using Cv2 Library we will read the Video "
   ]
  },
  {
   "cell_type": "code",
   "execution_count": null,
   "metadata": {},
   "outputs": [],
   "source": [
    "\n",
    "c=0\n",
    "while True:\n",
    "    ret, frame = video.read()\n",
    "    if not ret: break\n",
    "    h, w = frame.shape[0:2]\n",
    "    \n",
    "    #Frame is Created according to the video \n",
    "    \n",
    "    blob = cv2.dnn.blobFromImage(frame, 1/150, (300*w//h,300),\n",
    "                                 (127.5,127.5,127.5), False)\n",
    "    model.setInput(blob)\n",
    "    output = model.forward()"
   ]
  },
  {
   "cell_type": "code",
   "execution_count": null,
   "metadata": {},
   "outputs": [],
   "source": [
    "for i in range(output.shape[2]):\n",
    "        conf = output[0,0,i,2]\n",
    "        # Confidence should be greater to Create a frame on the Traversing  Object.\n",
    "        if conf > CONF_THR:\n",
    "            label = output[0,0,i,1]\n",
    "            x0,y0,x1,y1 = (output[0,0,i,3:7] * [w,h,w,h]).astype(int)\n",
    "            # cv2.rectangle Defines the rectangle frame will be made.\n",
    "            cv2.rectangle(frame, (x0,y0), (x1,y1), (0,255,0), 2)\n",
    "            cv2.putText(frame, '{}: {:.2f}'.format(LABELS[label], conf), \n",
    "                        (x0,y0), cv2.FONT_HERSHEY_SIMPLEX, 1, (0,255,0), 2)\n",
    "    \n",
    "    c += 1"
   ]
  },
  {
   "cell_type": "markdown",
   "metadata": {},
   "source": [
    "#### Capture the image once Object is Greater than The Confidence Threshold That we have Provided"
   ]
  },
  {
   "cell_type": "code",
   "execution_count": null,
   "metadata": {},
   "outputs": [],
   "source": [
    "# if c == 100:\n",
    "#         cv2.imwrite('../ch5_car_detections.png', frame)\n",
    "    \n",
    "#     cv2.imshow('frame', frame)\n",
    "#     key = cv2.waitKey(3)\n",
    "#     if key == 27: break\n",
    "        \n",
    "# cv2.destroyAllWindows()         \n",
    "\n",
    "\n",
    "\n",
    "Image(url= \"https://res.cloudinary.com/secure-intelligent-agent/image/upload/v1598970382/S.I.A%20%27s%20Web%20apps%20Image%20---%20Landing%20and%20Home/ch5_car_detections_utcl43.png\", width=100, height=100)\n",
    "\n"
   ]
  },
  {
   "cell_type": "code",
   "execution_count": null,
   "metadata": {},
   "outputs": [],
   "source": []
  }
 ],
 "metadata": {
  "kernelspec": {
   "display_name": "Python 3",
   "language": "python",
   "name": "python3"
  },
  "language_info": {
   "codemirror_mode": {
    "name": "ipython",
    "version": 3
   },
   "file_extension": ".py",
   "mimetype": "text/x-python",
   "name": "python",
   "nbconvert_exporter": "python",
   "pygments_lexer": "ipython3",
   "version": "3.6.5"
  }
 },
 "nbformat": 4,
 "nbformat_minor": 2
}
